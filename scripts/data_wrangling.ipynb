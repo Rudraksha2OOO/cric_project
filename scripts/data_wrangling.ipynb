{
 "cells": [
  {
   "cell_type": "code",
   "execution_count": null,
   "metadata": {},
   "outputs": [],
   "source": [
    "import pandas as pd\n",
    "from tqdm import tqdm\n",
    "from yaml import safe_load\n",
    "from joblib import Parallel, delayed\n",
    "import warnings, json, ast ,os\n",
    "import numpy as np\n",
    "\n",
    "warnings.filterwarnings('ignore')\n",
    "pd.set_option('display.max_columns',500)"
   ]
  },
  {
   "cell_type": "markdown",
   "metadata": {},
   "source": [
    "### Convert JSON To CSV"
   ]
  },
  {
   "cell_type": "code",
   "execution_count": 212,
   "metadata": {},
   "outputs": [],
   "source": [
    "# folder_path = '../odis_json'\n",
    "# json_files = [i for i in os.listdir(folder_path) if i.endswith('.json')]"
   ]
  },
  {
   "cell_type": "code",
   "execution_count": 213,
   "metadata": {},
   "outputs": [],
   "source": [
    "# cric_df_list = []\n",
    "# counter = 1\n",
    "# for file in tqdm(json_files):\n",
    "#     with open(os.path.join(folder_path, file), 'r') as f:\n",
    "#         df = pd.json_normalize(safe_load(f))\n",
    "#         df['match_id'] = counter\n",
    "#         cric_df_list.append(df)\n",
    "#         counter += 1\n",
    "\n",
    "# # Concatenate all dataframes in the list\n",
    "# cric_df = pd.concat(cric_df_list, ignore_index=True)\n"
   ]
  },
  {
   "cell_type": "code",
   "execution_count": 214,
   "metadata": {},
   "outputs": [],
   "source": [
    "# if not os.path.exists('../output'):\n",
    "#     os.makedirs('../output')\n",
    "# cric_df.to_csv('../output/json_extracted_data.csv',index=False)"
   ]
  },
  {
   "cell_type": "markdown",
   "metadata": {},
   "source": [
    "### Extract Important columns"
   ]
  },
  {
   "cell_type": "code",
   "execution_count": 215,
   "metadata": {},
   "outputs": [],
   "source": [
    "# df = pd.read_csv('../output/json_extracted_data.csv')"
   ]
  },
  {
   "cell_type": "code",
   "execution_count": 216,
   "metadata": {},
   "outputs": [],
   "source": [
    "# df = df[df['info.gender'] == 'male'][['match_id','innings','info.outcome.winner','info.teams','info.venue']]"
   ]
  },
  {
   "cell_type": "code",
   "execution_count": 217,
   "metadata": {},
   "outputs": [],
   "source": [
    "# # Convert \"innings\" column to a list of json\n",
    "# df['innings'] = Parallel(n_jobs=-1)(delayed(ast.literal_eval)(x) for x in df['innings'])"
   ]
  },
  {
   "cell_type": "code",
   "execution_count": 218,
   "metadata": {},
   "outputs": [],
   "source": [
    "# # Explode the 'innings' column\n",
    "# df = df.explode('innings')\n",
    "\n",
    "# # Extract 'team' separately\n",
    "# df['innings_team'] = df['innings'].apply(lambda x: x.get('team') if isinstance(x, dict) else None)\n",
    "\n",
    "# # Normalize the rest of the data\n",
    "# df = pd.json_normalize(\n",
    "#     df.to_dict(orient='records'),\n",
    "#     record_path=['innings', 'overs', 'deliveries'],\n",
    "#     meta=['match_id', 'innings_team', 'info.outcome.winner',\n",
    "#           ['innings', 'overs', 'over'], 'info.teams', 'info.venue'],\n",
    "#     errors='ignore'\n",
    "# )"
   ]
  },
  {
   "cell_type": "code",
   "execution_count": 219,
   "metadata": {},
   "outputs": [],
   "source": [
    "# # restructure and rename columns \n",
    "\n",
    "# df = df[['match_id','info.teams','innings_team','innings.overs.over','runs.total','wickets','info.outcome.winner',\n",
    "#                                'info.venue']].rename(columns={'runs.total':'runs','info.outcome.winner':'winning_team','info.venue':'venue',\n",
    "#                                                               'info.teams':'teams','innings_team':'batting_team','innings.overs.over':'over_number'}\n",
    "# )"
   ]
  },
  {
   "cell_type": "code",
   "execution_count": 220,
   "metadata": {},
   "outputs": [],
   "source": [
    "# df['teams'] = Parallel(n_jobs=-1)(delayed(ast.literal_eval)(x) for x in df['teams'])\n",
    "# df['bowling_team'] = df.apply(\n",
    "#     lambda row: [team for team in row['teams'] if team != row['batting_team']][0], axis=1\n",
    "# )"
   ]
  },
  {
   "cell_type": "code",
   "execution_count": 221,
   "metadata": {},
   "outputs": [],
   "source": [
    "# if not os.path.exists('../output'):\n",
    "#     os.makedirs('../output')\n",
    "# df.to_csv('../output/deliveries.csv',index=False)"
   ]
  },
  {
   "cell_type": "markdown",
   "metadata": {},
   "source": [
    "### Data Preprocessing"
   ]
  },
  {
   "cell_type": "code",
   "execution_count": 222,
   "metadata": {},
   "outputs": [],
   "source": [
    "df = pd.read_csv('../output/deliveries.csv')"
   ]
  },
  {
   "cell_type": "code",
   "execution_count": 223,
   "metadata": {},
   "outputs": [
    {
     "data": {
      "text/html": [
       "<div>\n",
       "<style scoped>\n",
       "    .dataframe tbody tr th:only-of-type {\n",
       "        vertical-align: middle;\n",
       "    }\n",
       "\n",
       "    .dataframe tbody tr th {\n",
       "        vertical-align: top;\n",
       "    }\n",
       "\n",
       "    .dataframe thead th {\n",
       "        text-align: right;\n",
       "    }\n",
       "</style>\n",
       "<table border=\"1\" class=\"dataframe\">\n",
       "  <thead>\n",
       "    <tr style=\"text-align: right;\">\n",
       "      <th></th>\n",
       "      <th>match_id</th>\n",
       "      <th>teams</th>\n",
       "      <th>batting_team</th>\n",
       "      <th>over_number</th>\n",
       "      <th>runs</th>\n",
       "      <th>wickets</th>\n",
       "      <th>winning_team</th>\n",
       "      <th>venue</th>\n",
       "      <th>bowling_team</th>\n",
       "    </tr>\n",
       "  </thead>\n",
       "  <tbody>\n",
       "    <tr>\n",
       "      <th>0</th>\n",
       "      <td>1</td>\n",
       "      <td>['Australia', 'Pakistan']</td>\n",
       "      <td>Australia</td>\n",
       "      <td>0</td>\n",
       "      <td>0</td>\n",
       "      <td>NaN</td>\n",
       "      <td>Australia</td>\n",
       "      <td>Brisbane Cricket Ground, Woolloongabba</td>\n",
       "      <td>Pakistan</td>\n",
       "    </tr>\n",
       "    <tr>\n",
       "      <th>1</th>\n",
       "      <td>1</td>\n",
       "      <td>['Australia', 'Pakistan']</td>\n",
       "      <td>Australia</td>\n",
       "      <td>0</td>\n",
       "      <td>0</td>\n",
       "      <td>NaN</td>\n",
       "      <td>Australia</td>\n",
       "      <td>Brisbane Cricket Ground, Woolloongabba</td>\n",
       "      <td>Pakistan</td>\n",
       "    </tr>\n",
       "    <tr>\n",
       "      <th>2</th>\n",
       "      <td>1</td>\n",
       "      <td>['Australia', 'Pakistan']</td>\n",
       "      <td>Australia</td>\n",
       "      <td>0</td>\n",
       "      <td>0</td>\n",
       "      <td>NaN</td>\n",
       "      <td>Australia</td>\n",
       "      <td>Brisbane Cricket Ground, Woolloongabba</td>\n",
       "      <td>Pakistan</td>\n",
       "    </tr>\n",
       "    <tr>\n",
       "      <th>3</th>\n",
       "      <td>1</td>\n",
       "      <td>['Australia', 'Pakistan']</td>\n",
       "      <td>Australia</td>\n",
       "      <td>0</td>\n",
       "      <td>0</td>\n",
       "      <td>NaN</td>\n",
       "      <td>Australia</td>\n",
       "      <td>Brisbane Cricket Ground, Woolloongabba</td>\n",
       "      <td>Pakistan</td>\n",
       "    </tr>\n",
       "    <tr>\n",
       "      <th>4</th>\n",
       "      <td>1</td>\n",
       "      <td>['Australia', 'Pakistan']</td>\n",
       "      <td>Australia</td>\n",
       "      <td>0</td>\n",
       "      <td>1</td>\n",
       "      <td>NaN</td>\n",
       "      <td>Australia</td>\n",
       "      <td>Brisbane Cricket Ground, Woolloongabba</td>\n",
       "      <td>Pakistan</td>\n",
       "    </tr>\n",
       "  </tbody>\n",
       "</table>\n",
       "</div>"
      ],
      "text/plain": [
       "   match_id                      teams batting_team  over_number  runs  \\\n",
       "0         1  ['Australia', 'Pakistan']    Australia            0     0   \n",
       "1         1  ['Australia', 'Pakistan']    Australia            0     0   \n",
       "2         1  ['Australia', 'Pakistan']    Australia            0     0   \n",
       "3         1  ['Australia', 'Pakistan']    Australia            0     0   \n",
       "4         1  ['Australia', 'Pakistan']    Australia            0     1   \n",
       "\n",
       "  wickets winning_team                                   venue bowling_team  \n",
       "0     NaN    Australia  Brisbane Cricket Ground, Woolloongabba     Pakistan  \n",
       "1     NaN    Australia  Brisbane Cricket Ground, Woolloongabba     Pakistan  \n",
       "2     NaN    Australia  Brisbane Cricket Ground, Woolloongabba     Pakistan  \n",
       "3     NaN    Australia  Brisbane Cricket Ground, Woolloongabba     Pakistan  \n",
       "4     NaN    Australia  Brisbane Cricket Ground, Woolloongabba     Pakistan  "
      ]
     },
     "execution_count": 223,
     "metadata": {},
     "output_type": "execute_result"
    }
   ],
   "source": [
    "df.head()"
   ]
  },
  {
   "cell_type": "markdown",
   "metadata": {},
   "source": [
    "#### Venues with atleast 10 matches"
   ]
  },
  {
   "cell_type": "code",
   "execution_count": 224,
   "metadata": {},
   "outputs": [],
   "source": [
    "# Only select venues which had atleast 10 matches\n",
    "venues = df['venue'].value_counts()[df['venue'].value_counts() > 3000].index.tolist()  # 300 x 10 = 3000\n",
    "\n",
    "df = df[df['venue'].isin(venues)]"
   ]
  },
  {
   "cell_type": "markdown",
   "metadata": {},
   "source": [
    "#### Top 10 teams"
   ]
  },
  {
   "cell_type": "code",
   "execution_count": 225,
   "metadata": {},
   "outputs": [],
   "source": [
    "# top 10 teams\n",
    "teams = ['Australia','India','Bangladesh','New Zealand','South Africa','England','West Indies','Afghanistan','Pakistan','Sri Lanka']\n",
    "\n",
    "# choose from only top teams\n",
    "df = df[df['batting_team'].isin(teams)]\n",
    "df = df[df['bowling_team'].isin(teams)]"
   ]
  },
  {
   "cell_type": "markdown",
   "metadata": {},
   "source": [
    "#### Get only first innings records"
   ]
  },
  {
   "cell_type": "code",
   "execution_count": 226,
   "metadata": {},
   "outputs": [],
   "source": [
    "# For each match_id get only the first innings\n",
    "df['match_team'] = df.groupby('match_id')['batting_team'].transform(  # row number() over(partition by match_id,batting_team)\n",
    "    lambda x: pd.factorize(x)[0] + 1\n",
    ")"
   ]
  },
  {
   "cell_type": "code",
   "execution_count": 227,
   "metadata": {},
   "outputs": [],
   "source": [
    "df = df[df['match_team'] == 1]"
   ]
  },
  {
   "cell_type": "markdown",
   "metadata": {},
   "source": [
    "#### Ball number column"
   ]
  },
  {
   "cell_type": "code",
   "execution_count": 228,
   "metadata": {},
   "outputs": [],
   "source": [
    "# Create balls_number column by row number over match_id, batting_team and over_number\n",
    "df['ball_number'] = df.groupby(['match_id', 'batting_team', 'over_number']).cumcount() + 1"
   ]
  },
  {
   "cell_type": "markdown",
   "metadata": {},
   "source": [
    "#### Wickets, players dismissed, wickets left column"
   ]
  },
  {
   "cell_type": "code",
   "execution_count": 229,
   "metadata": {},
   "outputs": [],
   "source": [
    "# make wicket as 0,1 column\n",
    "df.insert(7,'wicket',np.where(df['wickets'].notna(),1,0))\n",
    "df.drop(columns=['wickets','teams'],axis=1,inplace=True)"
   ]
  },
  {
   "cell_type": "code",
   "execution_count": 230,
   "metadata": {},
   "outputs": [],
   "source": [
    "# players/batsmen dismissed & wickets left column\n",
    "df['players_dismissed'] = df.groupby(['match_id','batting_team']).cumsum()['wicket'] # cumulative sum of player_dismissed by match_id\n",
    "df['wickets_left'] = 10 - df['players_dismissed'] # new column of wickets left\n",
    "df.drop(columns='wicket',axis=1,inplace=True)"
   ]
  },
  {
   "cell_type": "markdown",
   "metadata": {},
   "source": [
    "#### Current score column"
   ]
  },
  {
   "cell_type": "code",
   "execution_count": 231,
   "metadata": {},
   "outputs": [],
   "source": [
    "# current score\n",
    "df['current_score'] = df.groupby('match_id').cumsum()['runs'] # find cumsum of runs for each ball"
   ]
  },
  {
   "cell_type": "markdown",
   "metadata": {},
   "source": [
    "#### Balls bowled, balls left columns"
   ]
  },
  {
   "cell_type": "code",
   "execution_count": 232,
   "metadata": {},
   "outputs": [],
   "source": [
    "# Balls bowled\n",
    "df['balls_bowled'] = (df['over_number'].astype('int')*6) + df['ball_number'].astype('int') # overs * 6 + balls"
   ]
  },
  {
   "cell_type": "code",
   "execution_count": 233,
   "metadata": {},
   "outputs": [],
   "source": [
    "# Balls left\n",
    "df['balls_left'] = 300 - df['balls_bowled']\n",
    "df['balls_left'] = df['balls_left'].apply(lambda x:0 if x<0 else x) # remove -ve values if any"
   ]
  },
  {
   "cell_type": "markdown",
   "metadata": {},
   "source": [
    "#### Current run rate column"
   ]
  },
  {
   "cell_type": "code",
   "execution_count": 234,
   "metadata": {},
   "outputs": [],
   "source": [
    "# Current run rate column\n",
    "df['crr'] = (df['current_score']*6)/df['balls_bowled'] # current_run_rate = current_score*6/balls_bowled"
   ]
  },
  {
   "cell_type": "markdown",
   "metadata": {},
   "source": [
    "#### Runs scored in last 5 overs column"
   ]
  },
  {
   "cell_type": "code",
   "execution_count": 235,
   "metadata": {},
   "outputs": [],
   "source": [
    "# Runs scored in last 5 overs\n",
    "match_ids = df['match_id'].unique() # get array of unique match ids\n",
    "\n",
    "groups = df.groupby('match_id') # create groups for each match\n",
    "\n",
    "last_five = []\n",
    "for id in match_ids:\n",
    "    last_five.extend(groups.get_group(id).rolling(window=30).sum()['runs'].values.tolist()) # roll through last 30 balls\n",
    "df['last_five'] = last_five"
   ]
  },
  {
   "cell_type": "markdown",
   "metadata": {},
   "source": [
    "#### Match wise total runs"
   ]
  },
  {
   "cell_type": "code",
   "execution_count": 236,
   "metadata": {},
   "outputs": [],
   "source": [
    "# total runs of first innings (class-label)\n",
    "df.groupby('match_id').sum()['runs'].reset_index()\n",
    "\n",
    "df = df.groupby('match_id').sum()['runs'].reset_index().merge(df,on='match_id')"
   ]
  },
  {
   "cell_type": "markdown",
   "metadata": {},
   "source": [
    "#### Finalize Dataframe"
   ]
  },
  {
   "cell_type": "code",
   "execution_count": 237,
   "metadata": {},
   "outputs": [],
   "source": [
    "df = df[['batting_team', 'bowling_team', 'venue', 'current_score', 'balls_left', 'wickets_left', 'crr', 'last_five', 'runs_x']]\n",
    "df.dropna(inplace=True)"
   ]
  },
  {
   "cell_type": "code",
   "execution_count": 238,
   "metadata": {},
   "outputs": [],
   "source": [
    "df.to_csv('../output/deliveries_final.csv',index=False)"
   ]
  },
  {
   "cell_type": "code",
   "execution_count": 239,
   "metadata": {},
   "outputs": [
    {
     "data": {
      "text/html": [
       "<div>\n",
       "<style scoped>\n",
       "    .dataframe tbody tr th:only-of-type {\n",
       "        vertical-align: middle;\n",
       "    }\n",
       "\n",
       "    .dataframe tbody tr th {\n",
       "        vertical-align: top;\n",
       "    }\n",
       "\n",
       "    .dataframe thead th {\n",
       "        text-align: right;\n",
       "    }\n",
       "</style>\n",
       "<table border=\"1\" class=\"dataframe\">\n",
       "  <thead>\n",
       "    <tr style=\"text-align: right;\">\n",
       "      <th></th>\n",
       "      <th>batting_team</th>\n",
       "      <th>bowling_team</th>\n",
       "      <th>venue</th>\n",
       "      <th>current_score</th>\n",
       "      <th>balls_left</th>\n",
       "      <th>wickets_left</th>\n",
       "      <th>crr</th>\n",
       "      <th>last_five</th>\n",
       "      <th>runs_x</th>\n",
       "    </tr>\n",
       "  </thead>\n",
       "  <tbody>\n",
       "    <tr>\n",
       "      <th>387217</th>\n",
       "      <td>Sri Lanka</td>\n",
       "      <td>Australia</td>\n",
       "      <td>Pallekele International Cricket Stadium</td>\n",
       "      <td>194</td>\n",
       "      <td>61</td>\n",
       "      <td>1</td>\n",
       "      <td>4.870293</td>\n",
       "      <td>24.0</td>\n",
       "      <td>195</td>\n",
       "    </tr>\n",
       "    <tr>\n",
       "      <th>387218</th>\n",
       "      <td>Sri Lanka</td>\n",
       "      <td>Australia</td>\n",
       "      <td>Pallekele International Cricket Stadium</td>\n",
       "      <td>194</td>\n",
       "      <td>60</td>\n",
       "      <td>1</td>\n",
       "      <td>4.850000</td>\n",
       "      <td>23.0</td>\n",
       "      <td>195</td>\n",
       "    </tr>\n",
       "    <tr>\n",
       "      <th>387219</th>\n",
       "      <td>Sri Lanka</td>\n",
       "      <td>Australia</td>\n",
       "      <td>Pallekele International Cricket Stadium</td>\n",
       "      <td>195</td>\n",
       "      <td>59</td>\n",
       "      <td>1</td>\n",
       "      <td>4.854772</td>\n",
       "      <td>24.0</td>\n",
       "      <td>195</td>\n",
       "    </tr>\n",
       "    <tr>\n",
       "      <th>387220</th>\n",
       "      <td>Sri Lanka</td>\n",
       "      <td>Australia</td>\n",
       "      <td>Pallekele International Cricket Stadium</td>\n",
       "      <td>195</td>\n",
       "      <td>59</td>\n",
       "      <td>1</td>\n",
       "      <td>4.854772</td>\n",
       "      <td>23.0</td>\n",
       "      <td>195</td>\n",
       "    </tr>\n",
       "    <tr>\n",
       "      <th>387221</th>\n",
       "      <td>Sri Lanka</td>\n",
       "      <td>Australia</td>\n",
       "      <td>Pallekele International Cricket Stadium</td>\n",
       "      <td>195</td>\n",
       "      <td>58</td>\n",
       "      <td>0</td>\n",
       "      <td>4.834711</td>\n",
       "      <td>22.0</td>\n",
       "      <td>195</td>\n",
       "    </tr>\n",
       "  </tbody>\n",
       "</table>\n",
       "</div>"
      ],
      "text/plain": [
       "       batting_team bowling_team                                    venue  \\\n",
       "387217    Sri Lanka    Australia  Pallekele International Cricket Stadium   \n",
       "387218    Sri Lanka    Australia  Pallekele International Cricket Stadium   \n",
       "387219    Sri Lanka    Australia  Pallekele International Cricket Stadium   \n",
       "387220    Sri Lanka    Australia  Pallekele International Cricket Stadium   \n",
       "387221    Sri Lanka    Australia  Pallekele International Cricket Stadium   \n",
       "\n",
       "        current_score  balls_left  wickets_left       crr  last_five  runs_x  \n",
       "387217            194          61             1  4.870293       24.0     195  \n",
       "387218            194          60             1  4.850000       23.0     195  \n",
       "387219            195          59             1  4.854772       24.0     195  \n",
       "387220            195          59             1  4.854772       23.0     195  \n",
       "387221            195          58             0  4.834711       22.0     195  "
      ]
     },
     "execution_count": 239,
     "metadata": {},
     "output_type": "execute_result"
    }
   ],
   "source": [
    "df.tail()"
   ]
  }
 ],
 "metadata": {
  "kernelspec": {
   "display_name": "Python 3",
   "language": "python",
   "name": "python3"
  },
  "language_info": {
   "codemirror_mode": {
    "name": "ipython",
    "version": 3
   },
   "file_extension": ".py",
   "mimetype": "text/x-python",
   "name": "python",
   "nbconvert_exporter": "python",
   "pygments_lexer": "ipython3",
   "version": "3.10.0"
  }
 },
 "nbformat": 4,
 "nbformat_minor": 2
}
